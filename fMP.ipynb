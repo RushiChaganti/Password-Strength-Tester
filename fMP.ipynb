{
 "cells": [
  {
   "attachments": {},
   "cell_type": "markdown",
   "id": "4c5275d2",
   "metadata": {},
   "source": [
    "Installing and importing the packages which are required in the project"
   ]
  },
  {
   "cell_type": "code",
   "execution_count": 1,
   "id": "e6K6pVFTR9ve",
   "metadata": {
    "colab": {
     "base_uri": "https://localhost:8080/"
    },
    "id": "e6K6pVFTR9ve",
    "outputId": "b89d77f2-d8be-49e5-add7-c9b3e6ff5c1c"
   },
   "outputs": [
    {
     "name": "stdout",
     "output_type": "stream",
     "text": [
      "Requirement already satisfied: pycaret in c:\\dev\\anaconda\\lib\\site-packages (3.0.0)\n",
      "Requirement already satisfied: psutil>=5.9.0 in c:\\dev\\anaconda\\lib\\site-packages (from pycaret) (5.9.0)\n",
      "Requirement already satisfied: pyod>=1.0.8 in c:\\dev\\anaconda\\lib\\site-packages (from pycaret) (1.0.9)\n",
      "Requirement already satisfied: matplotlib>=3.3.0 in c:\\dev\\anaconda\\lib\\site-packages (from pycaret) (3.7.0)\n",
      "Requirement already satisfied: tqdm>=4.62.0 in c:\\dev\\anaconda\\lib\\site-packages (from pycaret) (4.64.1)\n",
      "Requirement already satisfied: lightgbm>=3.0.0 in c:\\dev\\anaconda\\lib\\site-packages (from pycaret) (3.3.5)\n",
      "Requirement already satisfied: plotly-resampler>=0.8.3.1 in c:\\dev\\anaconda\\lib\\site-packages (from pycaret) (0.8.3.2)\n",
      "Requirement already satisfied: xxhash in c:\\dev\\anaconda\\lib\\site-packages (from pycaret) (3.2.0)\n",
      "Requirement already satisfied: statsmodels>=0.12.1 in c:\\dev\\anaconda\\lib\\site-packages (from pycaret) (0.13.5)\n",
      "Requirement already satisfied: pmdarima!=1.8.1,<3.0.0,>=1.8.0 in c:\\dev\\anaconda\\lib\\site-packages (from pycaret) (2.0.3)\n",
      "Requirement already satisfied: requests>=2.27.1 in c:\\dev\\anaconda\\lib\\site-packages (from pycaret) (2.28.1)\n",
      "Requirement already satisfied: yellowbrick>=1.4 in c:\\dev\\anaconda\\lib\\site-packages (from pycaret) (1.5)\n",
      "Requirement already satisfied: ipython>=5.5.0 in c:\\dev\\anaconda\\lib\\site-packages (from pycaret) (8.10.0)\n",
      "Requirement already satisfied: imbalanced-learn>=0.8.1 in c:\\dev\\anaconda\\lib\\site-packages (from pycaret) (0.10.1)\n",
      "Requirement already satisfied: scikit-plot>=0.3.7 in c:\\dev\\anaconda\\lib\\site-packages (from pycaret) (0.3.7)\n",
      "Requirement already satisfied: plotly>=5.0.0 in c:\\dev\\anaconda\\lib\\site-packages (from pycaret) (5.9.0)\n",
      "Requirement already satisfied: sktime>=0.16.1 in c:\\dev\\anaconda\\lib\\site-packages (from pycaret) (0.18.0)\n",
      "Requirement already satisfied: ipywidgets>=7.6.5 in c:\\dev\\anaconda\\lib\\site-packages (from pycaret) (7.6.5)\n",
      "Requirement already satisfied: cloudpickle in c:\\dev\\anaconda\\lib\\site-packages (from pycaret) (2.0.0)\n",
      "Requirement already satisfied: jinja2>=1.2 in c:\\dev\\anaconda\\lib\\site-packages (from pycaret) (3.1.2)\n",
      "Requirement already satisfied: numpy<1.25,>=1.21 in c:\\dev\\anaconda\\lib\\site-packages (from pycaret) (1.23.5)\n",
      "Requirement already satisfied: deprecation>=2.1.0 in c:\\dev\\anaconda\\lib\\site-packages (from pycaret) (2.1.0)\n",
      "Requirement already satisfied: importlib-metadata>=4.12.0 in c:\\dev\\anaconda\\lib\\site-packages (from pycaret) (6.6.0)\n",
      "Requirement already satisfied: category-encoders>=2.4.0 in c:\\dev\\anaconda\\lib\\site-packages (from pycaret) (2.6.0)\n",
      "Requirement already satisfied: scikit-learn>=1.0 in c:\\dev\\anaconda\\lib\\site-packages (from pycaret) (1.2.1)\n",
      "Requirement already satisfied: markupsafe>=2.0.1 in c:\\dev\\anaconda\\lib\\site-packages (from pycaret) (2.1.1)\n",
      "Requirement already satisfied: joblib>=1.2.0 in c:\\dev\\anaconda\\lib\\site-packages (from pycaret) (1.2.0)\n",
      "Requirement already satisfied: nbformat>=4.2.0 in c:\\dev\\anaconda\\lib\\site-packages (from pycaret) (5.7.0)\n",
      "Requirement already satisfied: tbats>=1.1.0 in c:\\dev\\anaconda\\lib\\site-packages (from pycaret) (1.1.3)\n",
      "Requirement already satisfied: numba>=0.55.0 in c:\\dev\\anaconda\\lib\\site-packages (from pycaret) (0.56.4)\n",
      "Requirement already satisfied: kaleido>=0.2.1 in c:\\dev\\anaconda\\lib\\site-packages (from pycaret) (0.2.1)\n",
      "Requirement already satisfied: scipy<2.0.0 in c:\\dev\\anaconda\\lib\\site-packages (from pycaret) (1.10.0)\n",
      "Requirement already satisfied: pandas<1.6.0,>=1.3.0 in c:\\dev\\anaconda\\lib\\site-packages (from pycaret) (1.5.3)\n",
      "Requirement already satisfied: schemdraw>=0.14 in c:\\dev\\anaconda\\lib\\site-packages (from pycaret) (0.16)\n",
      "Requirement already satisfied: patsy>=0.5.1 in c:\\dev\\anaconda\\lib\\site-packages (from category-encoders>=2.4.0->pycaret) (0.5.3)\n",
      "Requirement already satisfied: packaging in c:\\dev\\anaconda\\lib\\site-packages (from deprecation>=2.1.0->pycaret) (22.0)\n",
      "Requirement already satisfied: threadpoolctl>=2.0.0 in c:\\dev\\anaconda\\lib\\site-packages (from imbalanced-learn>=0.8.1->pycaret) (2.2.0)\n",
      "Requirement already satisfied: zipp>=0.5 in c:\\dev\\anaconda\\lib\\site-packages (from importlib-metadata>=4.12.0->pycaret) (3.11.0)\n",
      "Requirement already satisfied: traitlets>=5 in c:\\dev\\anaconda\\lib\\site-packages (from ipython>=5.5.0->pycaret) (5.7.1)\n",
      "Requirement already satisfied: jedi>=0.16 in c:\\dev\\anaconda\\lib\\site-packages (from ipython>=5.5.0->pycaret) (0.18.1)\n",
      "Requirement already satisfied: stack-data in c:\\dev\\anaconda\\lib\\site-packages (from ipython>=5.5.0->pycaret) (0.2.0)\n",
      "Requirement already satisfied: pickleshare in c:\\dev\\anaconda\\lib\\site-packages (from ipython>=5.5.0->pycaret) (0.7.5)\n",
      "Requirement already satisfied: backcall in c:\\dev\\anaconda\\lib\\site-packages (from ipython>=5.5.0->pycaret) (0.2.0)\n",
      "Requirement already satisfied: prompt-toolkit<3.1.0,>=3.0.30 in c:\\dev\\anaconda\\lib\\site-packages (from ipython>=5.5.0->pycaret) (3.0.36)\n",
      "Requirement already satisfied: colorama in c:\\dev\\anaconda\\lib\\site-packages (from ipython>=5.5.0->pycaret) (0.4.6)\n",
      "Requirement already satisfied: pygments>=2.4.0 in c:\\dev\\anaconda\\lib\\site-packages (from ipython>=5.5.0->pycaret) (2.14.0)\n",
      "Requirement already satisfied: decorator in c:\\dev\\anaconda\\lib\\site-packages (from ipython>=5.5.0->pycaret) (5.1.1)\n",
      "Requirement already satisfied: matplotlib-inline in c:\\dev\\anaconda\\lib\\site-packages (from ipython>=5.5.0->pycaret) (0.1.6)\n",
      "Requirement already satisfied: jupyterlab-widgets>=1.0.0 in c:\\dev\\anaconda\\lib\\site-packages (from ipywidgets>=7.6.5->pycaret) (1.0.0)\n",
      "Requirement already satisfied: widgetsnbextension~=3.5.0 in c:\\dev\\anaconda\\lib\\site-packages (from ipywidgets>=7.6.5->pycaret) (3.5.2)\n",
      "Requirement already satisfied: ipykernel>=4.5.1 in c:\\dev\\anaconda\\lib\\site-packages (from ipywidgets>=7.6.5->pycaret) (6.19.2)\n",
      "Requirement already satisfied: ipython-genutils~=0.2.0 in c:\\dev\\anaconda\\lib\\site-packages (from ipywidgets>=7.6.5->pycaret) (0.2.0)\n",
      "Requirement already satisfied: wheel in c:\\dev\\anaconda\\lib\\site-packages (from lightgbm>=3.0.0->pycaret) (0.38.4)\n",
      "Requirement already satisfied: pillow>=6.2.0 in c:\\dev\\anaconda\\lib\\site-packages (from matplotlib>=3.3.0->pycaret) (9.4.0)\n",
      "Requirement already satisfied: cycler>=0.10 in c:\\dev\\anaconda\\lib\\site-packages (from matplotlib>=3.3.0->pycaret) (0.11.0)\n",
      "Requirement already satisfied: contourpy>=1.0.1 in c:\\dev\\anaconda\\lib\\site-packages (from matplotlib>=3.3.0->pycaret) (1.0.5)\n",
      "Requirement already satisfied: python-dateutil>=2.7 in c:\\dev\\anaconda\\lib\\site-packages (from matplotlib>=3.3.0->pycaret) (2.8.2)\n",
      "Requirement already satisfied: kiwisolver>=1.0.1 in c:\\dev\\anaconda\\lib\\site-packages (from matplotlib>=3.3.0->pycaret) (1.4.4)\n",
      "Requirement already satisfied: pyparsing>=2.3.1 in c:\\dev\\anaconda\\lib\\site-packages (from matplotlib>=3.3.0->pycaret) (3.0.9)\n",
      "Requirement already satisfied: fonttools>=4.22.0 in c:\\dev\\anaconda\\lib\\site-packages (from matplotlib>=3.3.0->pycaret) (4.25.0)\n",
      "Requirement already satisfied: fastjsonschema in c:\\dev\\anaconda\\lib\\site-packages (from nbformat>=4.2.0->pycaret) (2.16.2)\n",
      "Requirement already satisfied: jsonschema>=2.6 in c:\\dev\\anaconda\\lib\\site-packages (from nbformat>=4.2.0->pycaret) (4.17.3)\n",
      "Requirement already satisfied: jupyter-core in c:\\dev\\anaconda\\lib\\site-packages (from nbformat>=4.2.0->pycaret) (5.2.0)\n",
      "Requirement already satisfied: setuptools in c:\\dev\\anaconda\\lib\\site-packages (from numba>=0.55.0->pycaret) (65.6.3)\n",
      "Requirement already satisfied: llvmlite<0.40,>=0.39.0dev0 in c:\\dev\\anaconda\\lib\\site-packages (from numba>=0.55.0->pycaret) (0.39.1)\n",
      "Requirement already satisfied: pytz>=2020.1 in c:\\dev\\anaconda\\lib\\site-packages (from pandas<1.6.0,>=1.3.0->pycaret) (2022.7)\n",
      "Requirement already satisfied: tenacity>=6.2.0 in c:\\dev\\anaconda\\lib\\site-packages (from plotly>=5.0.0->pycaret) (8.0.1)\n",
      "Requirement already satisfied: trace-updater>=0.0.8 in c:\\dev\\anaconda\\lib\\site-packages (from plotly-resampler>=0.8.3.1->pycaret) (0.0.9.1)\n",
      "Requirement already satisfied: jupyter-dash>=0.4.2 in c:\\dev\\anaconda\\lib\\site-packages (from plotly-resampler>=0.8.3.1->pycaret) (0.4.2)\n",
      "Requirement already satisfied: orjson<4.0.0,>=3.8.0 in c:\\dev\\anaconda\\lib\\site-packages (from plotly-resampler>=0.8.3.1->pycaret) (3.8.11)\n",
      "Requirement already satisfied: dash<3.0.0,>=2.2.0 in c:\\dev\\anaconda\\lib\\site-packages (from plotly-resampler>=0.8.3.1->pycaret) (2.9.3)\n",
      "Requirement already satisfied: Cython!=0.29.18,!=0.29.31,>=0.29 in c:\\dev\\anaconda\\lib\\site-packages (from pmdarima!=1.8.1,<3.0.0,>=1.8.0->pycaret) (0.29.34)\n",
      "Requirement already satisfied: urllib3 in c:\\dev\\anaconda\\lib\\site-packages (from pmdarima!=1.8.1,<3.0.0,>=1.8.0->pycaret) (1.26.14)\n",
      "Requirement already satisfied: six in c:\\dev\\anaconda\\lib\\site-packages (from pyod>=1.0.8->pycaret) (1.16.0)\n",
      "Requirement already satisfied: certifi>=2017.4.17 in c:\\dev\\anaconda\\lib\\site-packages (from requests>=2.27.1->pycaret) (2022.12.7)\n",
      "Requirement already satisfied: idna<4,>=2.5 in c:\\dev\\anaconda\\lib\\site-packages (from requests>=2.27.1->pycaret) (3.4)\n",
      "Requirement already satisfied: charset-normalizer<3,>=2 in c:\\dev\\anaconda\\lib\\site-packages (from requests>=2.27.1->pycaret) (2.0.4)\n",
      "Requirement already satisfied: scikit-base<0.5.0 in c:\\dev\\anaconda\\lib\\site-packages (from sktime>=0.16.1->pycaret) (0.4.2)\n",
      "Requirement already satisfied: deprecated>=1.2.13 in c:\\dev\\anaconda\\lib\\site-packages (from sktime>=0.16.1->pycaret) (1.2.13)\n",
      "Requirement already satisfied: dash-core-components==2.0.0 in c:\\dev\\anaconda\\lib\\site-packages (from dash<3.0.0,>=2.2.0->plotly-resampler>=0.8.3.1->pycaret) (2.0.0)\n",
      "Requirement already satisfied: dash-html-components==2.0.0 in c:\\dev\\anaconda\\lib\\site-packages (from dash<3.0.0,>=2.2.0->plotly-resampler>=0.8.3.1->pycaret) (2.0.0)\n",
      "Requirement already satisfied: Flask>=1.0.4 in c:\\dev\\anaconda\\lib\\site-packages (from dash<3.0.0,>=2.2.0->plotly-resampler>=0.8.3.1->pycaret) (2.2.2)\n",
      "Requirement already satisfied: dash-table==5.0.0 in c:\\dev\\anaconda\\lib\\site-packages (from dash<3.0.0,>=2.2.0->plotly-resampler>=0.8.3.1->pycaret) (5.0.0)\n",
      "Requirement already satisfied: wrapt<2,>=1.10 in c:\\dev\\anaconda\\lib\\site-packages (from deprecated>=1.2.13->sktime>=0.16.1->pycaret) (1.14.1)\n",
      "Requirement already satisfied: pyzmq>=17 in c:\\dev\\anaconda\\lib\\site-packages (from ipykernel>=4.5.1->ipywidgets>=7.6.5->pycaret) (23.2.0)\n",
      "Requirement already satisfied: jupyter-client>=6.1.12 in c:\\dev\\anaconda\\lib\\site-packages (from ipykernel>=4.5.1->ipywidgets>=7.6.5->pycaret) (7.3.4)\n",
      "Requirement already satisfied: comm>=0.1.1 in c:\\dev\\anaconda\\lib\\site-packages (from ipykernel>=4.5.1->ipywidgets>=7.6.5->pycaret) (0.1.2)\n",
      "Requirement already satisfied: debugpy>=1.0 in c:\\dev\\anaconda\\lib\\site-packages (from ipykernel>=4.5.1->ipywidgets>=7.6.5->pycaret) (1.5.1)\n",
      "Requirement already satisfied: nest-asyncio in c:\\dev\\anaconda\\lib\\site-packages (from ipykernel>=4.5.1->ipywidgets>=7.6.5->pycaret) (1.5.6)\n",
      "Requirement already satisfied: tornado>=6.1 in c:\\dev\\anaconda\\lib\\site-packages (from ipykernel>=4.5.1->ipywidgets>=7.6.5->pycaret) (6.1)\n",
      "Requirement already satisfied: parso<0.9.0,>=0.8.0 in c:\\dev\\anaconda\\lib\\site-packages (from jedi>=0.16->ipython>=5.5.0->pycaret) (0.8.3)\n",
      "Requirement already satisfied: attrs>=17.4.0 in c:\\dev\\anaconda\\lib\\site-packages (from jsonschema>=2.6->nbformat>=4.2.0->pycaret) (22.1.0)\n",
      "Requirement already satisfied: pyrsistent!=0.17.0,!=0.17.1,!=0.17.2,>=0.14.0 in c:\\dev\\anaconda\\lib\\site-packages (from jsonschema>=2.6->nbformat>=4.2.0->pycaret) (0.18.0)\n",
      "Requirement already satisfied: retrying in c:\\dev\\anaconda\\lib\\site-packages (from jupyter-dash>=0.4.2->plotly-resampler>=0.8.3.1->pycaret) (1.3.4)\n",
      "Requirement already satisfied: ansi2html in c:\\dev\\anaconda\\lib\\site-packages (from jupyter-dash>=0.4.2->plotly-resampler>=0.8.3.1->pycaret) (1.8.0)\n",
      "Requirement already satisfied: wcwidth in c:\\dev\\anaconda\\lib\\site-packages (from prompt-toolkit<3.1.0,>=3.0.30->ipython>=5.5.0->pycaret) (0.2.5)\n",
      "Requirement already satisfied: notebook>=4.4.1 in c:\\dev\\anaconda\\lib\\site-packages (from widgetsnbextension~=3.5.0->ipywidgets>=7.6.5->pycaret) (6.5.2)\n",
      "Requirement already satisfied: pywin32>=1.0 in c:\\dev\\anaconda\\lib\\site-packages (from jupyter-core->nbformat>=4.2.0->pycaret) (305.1)\n",
      "Requirement already satisfied: platformdirs>=2.5 in c:\\dev\\anaconda\\lib\\site-packages (from jupyter-core->nbformat>=4.2.0->pycaret) (2.5.2)\n",
      "Requirement already satisfied: pure-eval in c:\\dev\\anaconda\\lib\\site-packages (from stack-data->ipython>=5.5.0->pycaret) (0.2.2)\n",
      "Requirement already satisfied: asttokens in c:\\dev\\anaconda\\lib\\site-packages (from stack-data->ipython>=5.5.0->pycaret) (2.0.5)\n",
      "Requirement already satisfied: executing in c:\\dev\\anaconda\\lib\\site-packages (from stack-data->ipython>=5.5.0->pycaret) (0.8.3)\n",
      "Requirement already satisfied: itsdangerous>=2.0 in c:\\dev\\anaconda\\lib\\site-packages (from Flask>=1.0.4->dash<3.0.0,>=2.2.0->plotly-resampler>=0.8.3.1->pycaret) (2.0.1)\n",
      "Requirement already satisfied: Werkzeug>=2.2.2 in c:\\dev\\anaconda\\lib\\site-packages (from Flask>=1.0.4->dash<3.0.0,>=2.2.0->plotly-resampler>=0.8.3.1->pycaret) (2.2.2)\n",
      "Requirement already satisfied: click>=8.0 in c:\\dev\\anaconda\\lib\\site-packages (from Flask>=1.0.4->dash<3.0.0,>=2.2.0->plotly-resampler>=0.8.3.1->pycaret) (8.0.4)\n",
      "Requirement already satisfied: entrypoints in c:\\dev\\anaconda\\lib\\site-packages (from jupyter-client>=6.1.12->ipykernel>=4.5.1->ipywidgets>=7.6.5->pycaret) (0.4)\n",
      "Requirement already satisfied: terminado>=0.8.3 in c:\\dev\\anaconda\\lib\\site-packages (from notebook>=4.4.1->widgetsnbextension~=3.5.0->ipywidgets>=7.6.5->pycaret) (0.17.1)\n",
      "Requirement already satisfied: nbclassic>=0.4.7 in c:\\dev\\anaconda\\lib\\site-packages (from notebook>=4.4.1->widgetsnbextension~=3.5.0->ipywidgets>=7.6.5->pycaret) (0.5.2)\n",
      "Requirement already satisfied: Send2Trash>=1.8.0 in c:\\dev\\anaconda\\lib\\site-packages (from notebook>=4.4.1->widgetsnbextension~=3.5.0->ipywidgets>=7.6.5->pycaret) (1.8.0)\n",
      "Requirement already satisfied: argon2-cffi in c:\\dev\\anaconda\\lib\\site-packages (from notebook>=4.4.1->widgetsnbextension~=3.5.0->ipywidgets>=7.6.5->pycaret) (21.3.0)\n",
      "Requirement already satisfied: nbconvert>=5 in c:\\dev\\anaconda\\lib\\site-packages (from notebook>=4.4.1->widgetsnbextension~=3.5.0->ipywidgets>=7.6.5->pycaret) (6.5.4)\n",
      "Requirement already satisfied: prometheus-client in c:\\dev\\anaconda\\lib\\site-packages (from notebook>=4.4.1->widgetsnbextension~=3.5.0->ipywidgets>=7.6.5->pycaret) (0.14.1)\n",
      "Requirement already satisfied: notebook-shim>=0.1.0 in c:\\dev\\anaconda\\lib\\site-packages (from nbclassic>=0.4.7->notebook>=4.4.1->widgetsnbextension~=3.5.0->ipywidgets>=7.6.5->pycaret) (0.2.2)\n",
      "Requirement already satisfied: jupyter-server>=1.8 in c:\\dev\\anaconda\\lib\\site-packages (from nbclassic>=0.4.7->notebook>=4.4.1->widgetsnbextension~=3.5.0->ipywidgets>=7.6.5->pycaret) (1.23.4)\n",
      "Requirement already satisfied: pandocfilters>=1.4.1 in c:\\dev\\anaconda\\lib\\site-packages (from nbconvert>=5->notebook>=4.4.1->widgetsnbextension~=3.5.0->ipywidgets>=7.6.5->pycaret) (1.5.0)\n",
      "Requirement already satisfied: tinycss2 in c:\\dev\\anaconda\\lib\\site-packages (from nbconvert>=5->notebook>=4.4.1->widgetsnbextension~=3.5.0->ipywidgets>=7.6.5->pycaret) (1.2.1)\n",
      "Requirement already satisfied: mistune<2,>=0.8.1 in c:\\dev\\anaconda\\lib\\site-packages (from nbconvert>=5->notebook>=4.4.1->widgetsnbextension~=3.5.0->ipywidgets>=7.6.5->pycaret) (0.8.4)\n",
      "Requirement already satisfied: lxml in c:\\dev\\anaconda\\lib\\site-packages (from nbconvert>=5->notebook>=4.4.1->widgetsnbextension~=3.5.0->ipywidgets>=7.6.5->pycaret) (4.9.1)\n",
      "Requirement already satisfied: beautifulsoup4 in c:\\dev\\anaconda\\lib\\site-packages (from nbconvert>=5->notebook>=4.4.1->widgetsnbextension~=3.5.0->ipywidgets>=7.6.5->pycaret) (4.11.1)\n",
      "Requirement already satisfied: defusedxml in c:\\dev\\anaconda\\lib\\site-packages (from nbconvert>=5->notebook>=4.4.1->widgetsnbextension~=3.5.0->ipywidgets>=7.6.5->pycaret) (0.7.1)\n",
      "Requirement already satisfied: bleach in c:\\dev\\anaconda\\lib\\site-packages (from nbconvert>=5->notebook>=4.4.1->widgetsnbextension~=3.5.0->ipywidgets>=7.6.5->pycaret) (4.1.0)\n",
      "Requirement already satisfied: jupyterlab-pygments in c:\\dev\\anaconda\\lib\\site-packages (from nbconvert>=5->notebook>=4.4.1->widgetsnbextension~=3.5.0->ipywidgets>=7.6.5->pycaret) (0.1.2)\n",
      "Requirement already satisfied: nbclient>=0.5.0 in c:\\dev\\anaconda\\lib\\site-packages (from nbconvert>=5->notebook>=4.4.1->widgetsnbextension~=3.5.0->ipywidgets>=7.6.5->pycaret) (0.5.13)\n",
      "Requirement already satisfied: pywinpty>=1.1.0 in c:\\dev\\anaconda\\lib\\site-packages (from terminado>=0.8.3->notebook>=4.4.1->widgetsnbextension~=3.5.0->ipywidgets>=7.6.5->pycaret) (2.0.10)\n",
      "Requirement already satisfied: argon2-cffi-bindings in c:\\dev\\anaconda\\lib\\site-packages (from argon2-cffi->notebook>=4.4.1->widgetsnbextension~=3.5.0->ipywidgets>=7.6.5->pycaret) (21.2.0)\n",
      "Requirement already satisfied: anyio<4,>=3.1.0 in c:\\dev\\anaconda\\lib\\site-packages (from jupyter-server>=1.8->nbclassic>=0.4.7->notebook>=4.4.1->widgetsnbextension~=3.5.0->ipywidgets>=7.6.5->pycaret) (3.5.0)\n",
      "Requirement already satisfied: websocket-client in c:\\dev\\anaconda\\lib\\site-packages (from jupyter-server>=1.8->nbclassic>=0.4.7->notebook>=4.4.1->widgetsnbextension~=3.5.0->ipywidgets>=7.6.5->pycaret) (0.58.0)\n",
      "Requirement already satisfied: cffi>=1.0.1 in c:\\dev\\anaconda\\lib\\site-packages (from argon2-cffi-bindings->argon2-cffi->notebook>=4.4.1->widgetsnbextension~=3.5.0->ipywidgets>=7.6.5->pycaret) (1.15.1)\n",
      "Requirement already satisfied: soupsieve>1.2 in c:\\dev\\anaconda\\lib\\site-packages (from beautifulsoup4->nbconvert>=5->notebook>=4.4.1->widgetsnbextension~=3.5.0->ipywidgets>=7.6.5->pycaret) (2.3.2.post1)\n",
      "Requirement already satisfied: webencodings in c:\\dev\\anaconda\\lib\\site-packages (from bleach->nbconvert>=5->notebook>=4.4.1->widgetsnbextension~=3.5.0->ipywidgets>=7.6.5->pycaret) (0.5.1)\n",
      "Requirement already satisfied: sniffio>=1.1 in c:\\dev\\anaconda\\lib\\site-packages (from anyio<4,>=3.1.0->jupyter-server>=1.8->nbclassic>=0.4.7->notebook>=4.4.1->widgetsnbextension~=3.5.0->ipywidgets>=7.6.5->pycaret) (1.2.0)\n",
      "Requirement already satisfied: pycparser in c:\\dev\\anaconda\\lib\\site-packages (from cffi>=1.0.1->argon2-cffi-bindings->argon2-cffi->notebook>=4.4.1->widgetsnbextension~=3.5.0->ipywidgets>=7.6.5->pycaret) (2.21)\n",
      "Note: you may need to restart the kernel to use updated packages.\n",
      "Requirement already satisfied: lightgbm in c:\\dev\\anaconda\\lib\\site-packages (3.3.5)\n",
      "Requirement already satisfied: scipy in c:\\dev\\anaconda\\lib\\site-packages (from lightgbm) (1.10.0)\n",
      "Requirement already satisfied: wheel in c:\\dev\\anaconda\\lib\\site-packages (from lightgbm) (0.38.4)\n",
      "Requirement already satisfied: numpy in c:\\dev\\anaconda\\lib\\site-packages (from lightgbm) (1.23.5)\n",
      "Requirement already satisfied: scikit-learn!=0.22.0 in c:\\dev\\anaconda\\lib\\site-packages (from lightgbm) (1.2.1)\n",
      "Requirement already satisfied: joblib>=1.1.1 in c:\\dev\\anaconda\\lib\\site-packages (from scikit-learn!=0.22.0->lightgbm) (1.2.0)\n",
      "Requirement already satisfied: threadpoolctl>=2.0.0 in c:\\dev\\anaconda\\lib\\site-packages (from scikit-learn!=0.22.0->lightgbm) (2.2.0)\n",
      "Note: you may need to restart the kernel to use updated packages.\n"
     ]
    }
   ],
   "source": [
    "%pip install pycaret\n",
    "%pip install lightgbm"
   ]
  },
  {
   "cell_type": "code",
   "execution_count": 41,
   "id": "e5fcf697",
   "metadata": {
    "id": "e5fcf697"
   },
   "outputs": [],
   "source": [
    "import pandas as pd\n",
    "import numpy as np\n",
    "import seaborn as sns\n",
    "from sklearn.feature_extraction.text import TfidfVectorizer\n",
    "from sklearn.model_selection import train_test_split\n",
    "from sklearn.ensemble import RandomForestClassifier\n",
    "import time\n",
    "from sklearn.linear_model import LogisticRegression  \n",
    "import pickle \n",
    "import xgboost as xgb\n",
    "import lightgbm as lgb\n",
    "from lightgbm import LGBMClassifier\n",
    "import matplotlib.pyplot as plt"
   ]
  },
  {
   "attachments": {},
   "cell_type": "markdown",
   "id": "f8c78fd1",
   "metadata": {},
   "source": [
    "Importing the data from the csv file"
   ]
  },
  {
   "cell_type": "code",
   "execution_count": 2,
   "id": "074e1024",
   "metadata": {
    "id": "074e1024"
   },
   "outputs": [],
   "source": [
    "data=pd.read_csv('data.csv')"
   ]
  },
  {
   "cell_type": "code",
   "execution_count": null,
   "id": "d455350b",
   "metadata": {
    "colab": {
     "base_uri": "https://localhost:8080/",
     "height": 206
    },
    "id": "d455350b",
    "outputId": "c4b03bfc-f0ea-4919-fb75-c129bd80f826"
   },
   "outputs": [
    {
     "data": {
      "text/html": [
       "\n",
       "  <div id=\"df-4a9f7b60-f017-4b1f-979f-151581b80168\">\n",
       "    <div class=\"colab-df-container\">\n",
       "      <div>\n",
       "<style scoped>\n",
       "    .dataframe tbody tr th:only-of-type {\n",
       "        vertical-align: middle;\n",
       "    }\n",
       "\n",
       "    .dataframe tbody tr th {\n",
       "        vertical-align: top;\n",
       "    }\n",
       "\n",
       "    .dataframe thead th {\n",
       "        text-align: right;\n",
       "    }\n",
       "</style>\n",
       "<table border=\"1\" class=\"dataframe\">\n",
       "  <thead>\n",
       "    <tr style=\"text-align: right;\">\n",
       "      <th></th>\n",
       "      <th>password</th>\n",
       "      <th>strength</th>\n",
       "    </tr>\n",
       "  </thead>\n",
       "  <tbody>\n",
       "    <tr>\n",
       "      <th>0</th>\n",
       "      <td>kzde5577</td>\n",
       "      <td>1</td>\n",
       "    </tr>\n",
       "    <tr>\n",
       "      <th>1</th>\n",
       "      <td>kino3434</td>\n",
       "      <td>1</td>\n",
       "    </tr>\n",
       "    <tr>\n",
       "      <th>2</th>\n",
       "      <td>visi7k1yr</td>\n",
       "      <td>1</td>\n",
       "    </tr>\n",
       "    <tr>\n",
       "      <th>3</th>\n",
       "      <td>megzy123</td>\n",
       "      <td>1</td>\n",
       "    </tr>\n",
       "    <tr>\n",
       "      <th>4</th>\n",
       "      <td>lamborghin1</td>\n",
       "      <td>1</td>\n",
       "    </tr>\n",
       "  </tbody>\n",
       "</table>\n",
       "</div>\n",
       "      <button class=\"colab-df-convert\" onclick=\"convertToInteractive('df-4a9f7b60-f017-4b1f-979f-151581b80168')\"\n",
       "              title=\"Convert this dataframe to an interactive table.\"\n",
       "              style=\"display:none;\">\n",
       "        \n",
       "  <svg xmlns=\"http://www.w3.org/2000/svg\" height=\"24px\"viewBox=\"0 0 24 24\"\n",
       "       width=\"24px\">\n",
       "    <path d=\"M0 0h24v24H0V0z\" fill=\"none\"/>\n",
       "    <path d=\"M18.56 5.44l.94 2.06.94-2.06 2.06-.94-2.06-.94-.94-2.06-.94 2.06-2.06.94zm-11 1L8.5 8.5l.94-2.06 2.06-.94-2.06-.94L8.5 2.5l-.94 2.06-2.06.94zm10 10l.94 2.06.94-2.06 2.06-.94-2.06-.94-.94-2.06-.94 2.06-2.06.94z\"/><path d=\"M17.41 7.96l-1.37-1.37c-.4-.4-.92-.59-1.43-.59-.52 0-1.04.2-1.43.59L10.3 9.45l-7.72 7.72c-.78.78-.78 2.05 0 2.83L4 21.41c.39.39.9.59 1.41.59.51 0 1.02-.2 1.41-.59l7.78-7.78 2.81-2.81c.8-.78.8-2.07 0-2.86zM5.41 20L4 18.59l7.72-7.72 1.47 1.35L5.41 20z\"/>\n",
       "  </svg>\n",
       "      </button>\n",
       "      \n",
       "  <style>\n",
       "    .colab-df-container {\n",
       "      display:flex;\n",
       "      flex-wrap:wrap;\n",
       "      gap: 12px;\n",
       "    }\n",
       "\n",
       "    .colab-df-convert {\n",
       "      background-color: #E8F0FE;\n",
       "      border: none;\n",
       "      border-radius: 50%;\n",
       "      cursor: pointer;\n",
       "      display: none;\n",
       "      fill: #1967D2;\n",
       "      height: 32px;\n",
       "      padding: 0 0 0 0;\n",
       "      width: 32px;\n",
       "    }\n",
       "\n",
       "    .colab-df-convert:hover {\n",
       "      background-color: #E2EBFA;\n",
       "      box-shadow: 0px 1px 2px rgba(60, 64, 67, 0.3), 0px 1px 3px 1px rgba(60, 64, 67, 0.15);\n",
       "      fill: #174EA6;\n",
       "    }\n",
       "\n",
       "    [theme=dark] .colab-df-convert {\n",
       "      background-color: #3B4455;\n",
       "      fill: #D2E3FC;\n",
       "    }\n",
       "\n",
       "    [theme=dark] .colab-df-convert:hover {\n",
       "      background-color: #434B5C;\n",
       "      box-shadow: 0px 1px 3px 1px rgba(0, 0, 0, 0.15);\n",
       "      filter: drop-shadow(0px 1px 2px rgba(0, 0, 0, 0.3));\n",
       "      fill: #FFFFFF;\n",
       "    }\n",
       "  </style>\n",
       "\n",
       "      <script>\n",
       "        const buttonEl =\n",
       "          document.querySelector('#df-4a9f7b60-f017-4b1f-979f-151581b80168 button.colab-df-convert');\n",
       "        buttonEl.style.display =\n",
       "          google.colab.kernel.accessAllowed ? 'block' : 'none';\n",
       "\n",
       "        async function convertToInteractive(key) {\n",
       "          const element = document.querySelector('#df-4a9f7b60-f017-4b1f-979f-151581b80168');\n",
       "          const dataTable =\n",
       "            await google.colab.kernel.invokeFunction('convertToInteractive',\n",
       "                                                     [key], {});\n",
       "          if (!dataTable) return;\n",
       "\n",
       "          const docLinkHtml = 'Like what you see? Visit the ' +\n",
       "            '<a target=\"_blank\" href=https://colab.research.google.com/notebooks/data_table.ipynb>data table notebook</a>'\n",
       "            + ' to learn more about interactive tables.';\n",
       "          element.innerHTML = '';\n",
       "          dataTable['output_type'] = 'display_data';\n",
       "          await google.colab.output.renderOutput(dataTable, element);\n",
       "          const docLink = document.createElement('div');\n",
       "          docLink.innerHTML = docLinkHtml;\n",
       "          element.appendChild(docLink);\n",
       "        }\n",
       "      </script>\n",
       "    </div>\n",
       "  </div>\n",
       "  "
      ],
      "text/plain": [
       "      password  strength\n",
       "0     kzde5577         1\n",
       "1     kino3434         1\n",
       "2    visi7k1yr         1\n",
       "3     megzy123         1\n",
       "4  lamborghin1         1"
      ]
     },
     "execution_count": 3,
     "metadata": {},
     "output_type": "execute_result"
    }
   ],
   "source": [
    "data.head()"
   ]
  },
  {
   "cell_type": "code",
   "execution_count": null,
   "id": "ba7d9868",
   "metadata": {
    "colab": {
     "base_uri": "https://localhost:8080/"
    },
    "id": "ba7d9868",
    "outputId": "cda87aeb-75f8-41b3-c62f-48f49e645507"
   },
   "outputs": [
    {
     "data": {
      "text/plain": [
       "(669639, 2)"
      ]
     },
     "execution_count": 4,
     "metadata": {},
     "output_type": "execute_result"
    }
   ],
   "source": [
    "data.shape"
   ]
  },
  {
   "cell_type": "code",
   "execution_count": null,
   "id": "cfea1fbb",
   "metadata": {
    "colab": {
     "base_uri": "https://localhost:8080/"
    },
    "id": "cfea1fbb",
    "outputId": "5fb21286-9b58-4666-c5d4-10180f69314c",
    "scrolled": true
   },
   "outputs": [
    {
     "data": {
      "text/plain": [
       "password    0\n",
       "strength    0\n",
       "dtype: int64"
      ]
     },
     "execution_count": 5,
     "metadata": {},
     "output_type": "execute_result"
    }
   ],
   "source": [
    "data.isnull().sum()"
   ]
  },
  {
   "cell_type": "code",
   "execution_count": null,
   "id": "01057c31",
   "metadata": {
    "colab": {
     "base_uri": "https://localhost:8080/",
     "height": 466
    },
    "id": "01057c31",
    "outputId": "a31bf059-2f63-44c3-ee31-8cfb787dbac1"
   },
   "outputs": [
    {
     "data": {
      "text/plain": [
       "<Axes: xlabel='strength', ylabel='Count'>"
      ]
     },
     "execution_count": 6,
     "metadata": {},
     "output_type": "execute_result"
    },
    {
     "data": {
      "image/png": "[encoded data removed]",
      "text/plain": [
       "<Figure size 640x480 with 1 Axes>"
      ]
     },
     "metadata": {},
     "output_type": "display_data"
    }
   ],
   "source": [
    "sns.histplot(data['strength'])"
   ]
  },
  {
   "cell_type": "code",
   "execution_count": null,
   "id": "6d9179f7",
   "metadata": {
    "colab": {
     "base_uri": "https://localhost:8080/",
     "height": 504
    },
    "id": "6d9179f7",
    "outputId": "5fa4e3b8-623c-46c3-a5d0-74c888ce7dbe",
    "scrolled": true
   },
   "outputs": [
    {
     "data": {
      "text/plain": [
       "<seaborn.axisgrid.FacetGrid at 0x7f89b725d780>"
      ]
     },
     "execution_count": 7,
     "metadata": {},
     "output_type": "execute_result"
    },
    {
     "data": {
      "image/png": "[encoded data removed]",
      "text/plain": [
       "<Figure size 500x500 with 1 Axes>"
      ]
     },
     "metadata": {},
     "output_type": "display_data"
    }
   ],
   "source": [
    "sns.relplot(data['strength'])"
   ]
  },
  {
   "cell_type": "code",
   "execution_count": null,
   "id": "5da03c13",
   "metadata": {
    "colab": {
     "base_uri": "https://localhost:8080/",
     "height": 523
    },
    "id": "5da03c13",
    "outputId": "65d2eada-e75a-4afa-b84a-c66e3e684cba"
   },
   "outputs": [
    {
     "data": {
      "text/plain": [
       "<seaborn.axisgrid.FacetGrid at 0x7f89faec16f0>"
      ]
     },
     "execution_count": 8,
     "metadata": {},
     "output_type": "execute_result"
    },
    {
     "data": {
      "image/png": "[encoded data removed]",
      "text/plain": [
       "<Figure size 500x500 with 1 Axes>"
      ]
     },
     "metadata": {},
     "output_type": "display_data"
    }
   ],
   "source": [
    "sns.displot(data['strength'])"
   ]
  },
  {
   "cell_type": "code",
   "execution_count": null,
   "id": "296317a6",
   "metadata": {
    "colab": {
     "base_uri": "https://localhost:8080/",
     "height": 466
    },
    "id": "296317a6",
    "outputId": "61898737-df45-4aa6-a403-e725d1190d2f"
   },
   "outputs": [
    {
     "data": {
      "text/plain": [
       "<Axes: xlabel='strength', ylabel='count'>"
      ]
     },
     "execution_count": 9,
     "metadata": {},
     "output_type": "execute_result"
    },
    {
     "data": {
      "image/png": "[encoded data removed]",
      "text/plain": [
       "<Figure size 640x480 with 1 Axes>"
      ]
     },
     "metadata": {},
     "output_type": "display_data"
    }
   ],
   "source": [
    "sns.countplot(x=data[\"strength\"])"
   ]
  },
  {
   "cell_type": "code",
   "execution_count": 18,
   "id": "671978f5",
   "metadata": {
    "id": "671978f5"
   },
   "outputs": [],
   "source": [
    "def word_divider(words):\n",
    "    char=[]\n",
    "    for i in words:\n",
    "        char.append(i)\n",
    "    return char"
   ]
  },
  {
   "cell_type": "code",
   "execution_count": 19,
   "id": "18f81a43",
   "metadata": {
    "colab": {
     "base_uri": "https://localhost:8080/"
    },
    "id": "18f81a43",
    "outputId": "794e0e02-365e-4a65-ec1a-a05fb67c62fb"
   },
   "outputs": [
    {
     "name": "stderr",
     "output_type": "stream",
     "text": [
      "C:\\Dev\\anaconda\\lib\\site-packages\\sklearn\\feature_extraction\\text.py:528: UserWarning: The parameter 'token_pattern' will not be used since 'tokenizer' is not None'\n",
      "  warnings.warn(\n"
     ]
    }
   ],
   "source": [
    "x = np.array(data[\"password\"])\n",
    "y = np.array(data[\"strength\"])\n",
    "\n",
    "tdif = TfidfVectorizer(tokenizer=word_divider)\n",
    "x = tdif.fit_transform(x)\n",
    "xtrain, xtest, ytrain, ytest = train_test_split(x, y, \n",
    "                                                test_size=0.05, \n",
    "                                                random_state=42)"
   ]
  },
  {
   "attachments": {},
   "cell_type": "markdown",
   "id": "a1d00c40",
   "metadata": {},
   "source": [
    "Training models from the training data"
   ]
  },
  {
   "cell_type": "code",
   "execution_count": null,
   "id": "c2fff2f3",
   "metadata": {
    "colab": {
     "base_uri": "https://localhost:8080/"
    },
    "id": "c2fff2f3",
    "outputId": "bdb033d3-9f67-466a-9d47-d555184dcbfe"
   },
   "outputs": [
    {
     "name": "stderr",
     "output_type": "stream",
     "text": [
      "[Parallel(n_jobs=-1)]: Using backend ThreadingBackend with 2 concurrent workers.\n"
     ]
    },
    {
     "name": "stdout",
     "output_type": "stream",
     "text": [
      "building tree 1 of 100\n",
      "building tree 2 of 100\n",
      "building tree 3 of 100\n",
      "building tree 4 of 100\n",
      "building tree 5 of 100\n",
      "building tree 6 of 100\n",
      "building tree 7 of 100\n",
      "building tree 8 of 100\n",
      "building tree 9 of 100\n",
      "building tree 10 of 100\n",
      "building tree 11 of 100\n",
      "building tree 12 of 100\n",
      "building tree 13 of 100\n",
      "building tree 14 of 100\n",
      "building tree 15 of 100\n",
      "building tree 16 of 100\n",
      "building tree 17 of 100\n",
      "building tree 18 of 100\n",
      "building tree 19 of 100\n",
      "building tree 20 of 100\n",
      "building tree 21 of 100\n",
      "building tree 22 of 100\n",
      "building tree 23 of 100\n",
      "building tree 24 of 100\n",
      "building tree 25 of 100\n",
      "building tree 26 of 100\n",
      "building tree 27 of 100\n",
      "building tree 28 of 100\n",
      "building tree 29 of 100\n"
     ]
    },
    {
     "name": "stderr",
     "output_type": "stream",
     "text": [
      "[Parallel(n_jobs=-1)]: Done  28 tasks      | elapsed:  8.3min\n"
     ]
    },
    {
     "name": "stdout",
     "output_type": "stream",
     "text": [
      "building tree 30 of 100\n",
      "building tree 31 of 100\n",
      "building tree 32 of 100\n",
      "building tree 33 of 100\n",
      "building tree 34 of 100\n",
      "building tree 35 of 100\n",
      "building tree 36 of 100\n",
      "building tree 37 of 100\n",
      "building tree 38 of 100\n",
      "building tree 39 of 100\n",
      "building tree 40 of 100\n",
      "building tree 41 of 100\n",
      "building tree 42 of 100\n",
      "building tree 43 of 100\n",
      "building tree 44 of 100\n",
      "building tree 45 of 100\n",
      "building tree 46 of 100\n",
      "building tree 47 of 100\n",
      "building tree 48 of 100\n",
      "building tree 49 of 100\n",
      "building tree 50 of 100\n",
      "building tree 51 of 100\n",
      "building tree 52 of 100\n",
      "building tree 53 of 100\n",
      "building tree 54 of 100\n",
      "building tree 55 of 100\n",
      "building tree 56 of 100\n",
      "building tree 57 of 100\n",
      "building tree 58 of 100\n",
      "building tree 59 of 100\n",
      "building tree 60 of 100\n",
      "building tree 61 of 100\n",
      "building tree 62 of 100\n",
      "building tree 63 of 100\n",
      "building tree 64 of 100\n",
      "building tree 65 of 100\n",
      "building tree 66 of 100\n",
      "building tree 67 of 100\n",
      "building tree 68 of 100\n",
      "building tree 69 of 100\n",
      "building tree 70 of 100\n",
      "building tree 71 of 100\n",
      "building tree 72 of 100\n",
      "building tree 73 of 100\n",
      "building tree 74 of 100\n",
      "building tree 75 of 100\n",
      "building tree 76 of 100\n",
      "building tree 77 of 100\n",
      "building tree 78 of 100\n",
      "building tree 79 of 100\n",
      "building tree 80 of 100\n",
      "building tree 81 of 100\n",
      "building tree 82 of 100\n",
      "building tree 83 of 100\n",
      "building tree 84 of 100\n",
      "building tree 85 of 100\n",
      "building tree 86 of 100\n",
      "building tree 87 of 100\n",
      "building tree 88 of 100\n",
      "building tree 89 of 100\n",
      "building tree 90 of 100\n",
      "building tree 91 of 100\n",
      "building tree 92 of 100\n",
      "building tree 93 of 100\n",
      "building tree 94 of 100\n",
      "building tree 95 of 100\n",
      "building tree 96 of 100\n",
      "building tree 97 of 100\n",
      "building tree 98 of 100\n",
      "building tree 99 of 100\n",
      "building tree 100 of 100\n",
      "The operation took  1776.8125269412994 seconds\n"
     ]
    },
    {
     "name": "stderr",
     "output_type": "stream",
     "text": [
      "[Parallel(n_jobs=-1)]: Done 100 out of 100 | elapsed: 29.6min finished\n"
     ]
    }
   ],
   "source": [
    "start = time.time()\n",
    "rf = RandomForestClassifier(n_estimators = 100,verbose=3,n_jobs=-1)\n",
    "rf.fit(xtrain, ytrain)\n",
    "print(\"The operation took \",time.time() - start,\"seconds\")"
   ]
  },
  {
   "cell_type": "code",
   "execution_count": null,
   "id": "ab004f2b",
   "metadata": {
    "colab": {
     "base_uri": "https://localhost:8080/"
    },
    "id": "ab004f2b",
    "outputId": "29ed26c9-0cd2-479c-88b9-0448336ce681"
   },
   "outputs": [
    {
     "name": "stdout",
     "output_type": "stream",
     "text": [
      "The operation took:  85.63949084281921 seconds\n"
     ]
    }
   ],
   "source": [
    "start = time.time()\n",
    "lor = LogisticRegression(max_iter=1500)\n",
    "lor.fit(xtrain, ytrain)\n",
    "print(\"The operation took: \",time.time() - start,\"seconds\")"
   ]
  },
  {
   "cell_type": "code",
   "execution_count": null,
   "id": "67d70fb3",
   "metadata": {
    "id": "67d70fb3"
   },
   "outputs": [],
   "source": [
    "start = time.time()\n",
    "xg = xgb.XGBClassifier(n_jobs=-1)\n",
    "xg.fit(xtrain,ytrain)\n",
    "print(\"The operation took: \",time.time() - start,\"seconds\")"
   ]
  },
  {
   "cell_type": "code",
   "execution_count": null,
   "id": "mgC2Ae_r6dW9",
   "metadata": {
    "colab": {
     "base_uri": "https://localhost:8080/"
    },
    "id": "mgC2Ae_r6dW9",
    "outputId": "975761d9-8cf1-4e1e-e1dc-6c6e66b2e793"
   },
   "outputs": [
    {
     "name": "stdout",
     "output_type": "stream",
     "text": [
      "The operation took:  31.75286078453064 seconds\n"
     ]
    }
   ],
   "source": [
    "start = time.time()\n",
    "model = LGBMClassifier()\n",
    "model.fit(xtrain, ytrain)\n",
    "print(\"The operation took: \",time.time() - start,\"seconds\")"
   ]
  },
  {
   "attachments": {},
   "cell_type": "markdown",
   "id": "aec90af2",
   "metadata": {},
   "source": [
    "Creating new variables to store the accuracies of the current models"
   ]
  },
  {
   "cell_type": "code",
   "execution_count": null,
   "id": "17ac5ca4",
   "metadata": {
    "colab": {
     "base_uri": "https://localhost:8080/"
    },
    "id": "17ac5ca4",
    "outputId": "832786b7-c281-44cc-800a-44357ca5e584"
   },
   "outputs": [
    {
     "name": "stderr",
     "output_type": "stream",
     "text": [
      "[Parallel(n_jobs=2)]: Using backend ThreadingBackend with 2 concurrent workers.\n",
      "[Parallel(n_jobs=2)]: Done  28 tasks      | elapsed:    0.4s\n",
      "[Parallel(n_jobs=2)]: Done 100 out of 100 | elapsed:    1.4s finished\n",
      "[Parallel(n_jobs=2)]: Using backend ThreadingBackend with 2 concurrent workers.\n",
      "[Parallel(n_jobs=2)]: Done  28 tasks      | elapsed:    6.8s\n",
      "[Parallel(n_jobs=2)]: Done 100 out of 100 | elapsed:   23.0s finished\n"
     ]
    }
   ],
   "source": [
    "rf_test_acc = rf.score(xtest, ytest)*100\n",
    "rf_train_acc = rf.score(xtrain, ytrain)*100"
   ]
  },
  {
   "cell_type": "code",
   "execution_count": null,
   "id": "366da0fe",
   "metadata": {
    "id": "366da0fe"
   },
   "outputs": [],
   "source": [
    "lor_test_acc = lor.score(xtest, ytest)*100\n",
    "lor_train_acc = lor.score(xtrain, ytrain)*100\n"
   ]
  },
  {
   "cell_type": "code",
   "execution_count": null,
   "id": "37cc0b0f",
   "metadata": {
    "id": "37cc0b0f"
   },
   "outputs": [],
   "source": [
    "xg_test_acc = xg.score(xtest, ytest)*100\n",
    "xg_train_acc = xg.score(xtrain, ytrain)*100"
   ]
  },
  {
   "cell_type": "code",
   "execution_count": null,
   "id": "9q-APF_D7B6s",
   "metadata": {
    "id": "9q-APF_D7B6s"
   },
   "outputs": [],
   "source": [
    "lgb_test_acc = model.score(xtest, ytest)*100\n",
    "lgb_train_acc = model.score(xtrain, ytrain)*100"
   ]
  },
  {
   "attachments": {},
   "cell_type": "markdown",
   "id": "4e76aeca",
   "metadata": {},
   "source": [
    "Saving Models and vectorizer with accuracies"
   ]
  },
  {
   "cell_type": "code",
   "execution_count": null,
   "id": "2d19e34e",
   "metadata": {
    "id": "2d19e34e"
   },
   "outputs": [],
   "source": [
    "##Saving the tdifvectorizer\n",
    "with open('tdif.pkl', 'wb') as file:\n",
    "    pickle.dump(tdif, file)"
   ]
  },
  {
   "cell_type": "code",
   "execution_count": null,
   "id": "a164a865",
   "metadata": {
    "id": "a164a865"
   },
   "outputs": [],
   "source": [
    "##Random forest with model,testing accuracy and training accuracy\n",
    "with open('rf.pkl', 'wb') as f:\n",
    "    pickle.dump({'model': rf, 'test_accuracy':rf_test_acc,'train_accuracy':rf_train_acc }, f)"
   ]
  },
  {
   "cell_type": "code",
   "execution_count": null,
   "id": "99a0a2d0",
   "metadata": {
    "id": "99a0a2d0"
   },
   "outputs": [],
   "source": [
    "##Logistic Regression with  model,testing accuracy and training accuracy\n",
    "with open('lor.pkl', 'wb') as f:\n",
    "    pickle.dump({'model': lor, 'test_accuracy':lor_test_acc,'train_accuracy':lor_train_acc }, f)"
   ]
  },
  {
   "cell_type": "code",
   "execution_count": null,
   "id": "b0c7d0c5",
   "metadata": {
    "id": "b0c7d0c5"
   },
   "outputs": [],
   "source": [
    "##XGBoost  with  model,testing accuracy and training accuracy\n",
    "with open('xg.pkl', 'wb') as f:\n",
    "    pickle.dump({'model': xg, 'test_accuracy':xg_test_acc,'train_accuracy':xg_train_acc }, f)"
   ]
  },
  {
   "cell_type": "code",
   "execution_count": null,
   "id": "65c0f980",
   "metadata": {
    "id": "65c0f980"
   },
   "outputs": [],
   "source": [
    "##LGBoost  with  model,testing accuracy and training accuracy\n",
    "with open('lgb.pkl', 'wb') as f:\n",
    "    pickle.dump({'model': model, 'test_accuracy':lgb_test_acc,'train_accuracy':lgb_train_acc }, f)"
   ]
  },
  {
   "attachments": {},
   "cell_type": "markdown",
   "id": "15535bc9",
   "metadata": {},
   "source": [
    "Using the saved models to create a confusion matrix"
   ]
  },
  {
   "cell_type": "code",
   "execution_count": 60,
   "id": "f5779ba9",
   "metadata": {
    "id": "f5779ba9"
   },
   "outputs": [],
   "source": [
    "with open('lor.pkl', 'rb') as f:\n",
    "    lor = pickle.load(f)"
   ]
  },
  {
   "cell_type": "code",
   "execution_count": 61,
   "id": "096b384c",
   "metadata": {
    "id": "096b384c"
   },
   "outputs": [],
   "source": [
    "with open('rf.pkl', 'rb') as f:\n",
    "    rf = pickle.load(f)"
   ]
  },
  {
   "cell_type": "code",
   "execution_count": 62,
   "id": "05e8eeed",
   "metadata": {},
   "outputs": [
    {
     "name": "stderr",
     "output_type": "stream",
     "text": [
      "C:\\Dev\\anaconda\\lib\\site-packages\\sklearn\\base.py:299: UserWarning: Trying to unpickle estimator LabelEncoder from version 1.2.2 when using version 1.2.1. This might lead to breaking code or invalid results. Use at your own risk. For more info please refer to:\n",
      "https://scikit-learn.org/stable/model_persistence.html#security-maintainability-limitations\n",
      "  warnings.warn(\n"
     ]
    }
   ],
   "source": [
    "with open('lgb.pkl', 'rb') as f:\n",
    "    lgb = pickle.load(f)"
   ]
  },
  {
   "cell_type": "code",
   "execution_count": 63,
   "id": "483435b2",
   "metadata": {},
   "outputs": [],
   "source": [
    "with open('xg.pkl', 'rb') as f:\n",
    "    xg = pickle.load(f)"
   ]
  },
  {
   "cell_type": "code",
   "execution_count": 86,
   "id": "6b74d9a6",
   "metadata": {
    "id": "6b74d9a6"
   },
   "outputs": [],
   "source": [
    "from sklearn.metrics import confusion_matrix, classification_report"
   ]
  },
  {
   "cell_type": "code",
   "execution_count": 82,
   "id": "54ea954e",
   "metadata": {},
   "outputs": [],
   "source": [
    "models = {\n",
    "    'Random Forest': rf['model'],\n",
    "    'Light Gradient Boosting': lgb['model'],\n",
    "    'XGBoost': xg['model'],\n",
    "    'Logistic Regression': lor['model']\n",
    "}"
   ]
  },
  {
   "cell_type": "code",
   "execution_count": 90,
   "id": "93d3076e",
   "metadata": {},
   "outputs": [
    {
     "name": "stderr",
     "output_type": "stream",
     "text": [
      "[Parallel(n_jobs=16)]: Using backend ThreadingBackend with 16 concurrent workers.\n",
      "[Parallel(n_jobs=16)]: Done 100 out of 100 | elapsed:    0.2s finished\n"
     ]
    },
    {
     "name": "stdout",
     "output_type": "stream",
     "text": [
      "Random Forest Classification Report:\n",
      "{'0': {'precision': 0.9564994882292733, 'recall': 0.825530035335689, 'f1-score': 0.8862019914651493, 'support': 4528}, '1': {'precision': 0.9554449671474671, 'recall': 0.9873443149859381, 'f1-score': 0.971132757700895, 'support': 24890}, '2': {'precision': 0.9602906825849987, 'recall': 0.9104330708661418, 'f1-score': 0.9346974864216243, 'support': 4064}, 'accuracy': 0.9561256794695657, 'macro avg': {'precision': 0.9574117126539131, 'recall': 0.9077691403959229, 'f1-score': 0.9306774118625563, 'support': 33482}, 'weighted avg': {'precision': 0.9561757436541438, 'recall': 0.9561256794695657, 'f1-score': 0.9552245248595351, 'support': 33482}}\n",
      "Light Gradient Boosting Classification Report:\n",
      "{'0': {'precision': 0.9447806354009077, 'recall': 0.827517667844523, 'f1-score': 0.8822698375323758, 'support': 4528}, '1': {'precision': 0.9602038815918448, 'recall': 0.9839292888710326, 'f1-score': 0.971921817640639, 'support': 24890}, '2': {'precision': 0.9543754674644727, 'recall': 0.9419291338582677, 'f1-score': 0.9481114551083591, 'support': 4064}, 'accuracy': 0.9576787527626784, 'macro avg': {'precision': 0.9531199948190751, 'recall': 0.9177920301912744, 'f1-score': 0.9341010367604579, 'support': 33482}, 'weighted avg': {'precision': 0.9574106454122199, 'recall': 0.9576787527626784, 'f1-score': 0.9569074971322643, 'support': 33482}}\n",
      "XGBoost Classification Report:\n",
      "{'0': {'precision': 0.9658392165793669, 'recall': 0.9366166077738516, 'f1-score': 0.9510034757259783, 'support': 4528}, '1': {'precision': 0.9829853363085751, 'recall': 0.9911209321012455, 'f1-score': 0.9870363701836514, 'support': 24890}, '2': {'precision': 0.9822277847309137, 'recall': 0.9655511811023622, 'f1-score': 0.9738180915746371, 'support': 4064}, 'accuracy': 0.9806463174242877, 'macro avg': {'precision': 0.9770174458729519, 'recall': 0.964429573659153, 'f1-score': 0.9706193124947555, 'support': 33482}, 'weighted avg': {'precision': 0.9805745986063628, 'recall': 0.9806463174242877, 'f1-score': 0.9805589784396881, 'support': 33482}}\n",
      "Logistic Regression Classification Report:\n",
      "{'0': {'precision': 0.5897219882055602, 'recall': 0.30918727915194344, 'f1-score': 0.4056795131845842, 'support': 4528}, '1': {'precision': 0.8416808302896611, 'recall': 0.9351145038167938, 'f1-score': 0.8859410387682469, 'support': 24890}, '2': {'precision': 0.8118668596237337, 'recall': 0.6902066929133859, 'f1-score': 0.746109855033914, 'support': 4064}, 'accuracy': 0.8207395018218745, 'macro avg': {'precision': 0.747756559372985, 'recall': 0.6448361586273744, 'f1-score': 0.6792434689955816, 'support': 33482}, 'weighted avg': {'precision': 0.8039879322028342, 'recall': 0.8207395018218745, 'f1-score': 0.8040194654291647, 'support': 33482}}\n"
     ]
    },
    {
     "data": {
      "image/png": "[encoded data removed]",
      "text/plain": [
       "<Figure size 1200x800 with 4 Axes>"
      ]
     },
     "metadata": {},
     "output_type": "display_data"
    }
   ],
   "source": [
    "from sklearn.metrics import accuracy_score, precision_score, recall_score, f1_score\n",
    "models = {\n",
    "    'Random Forest': rf['model'],\n",
    "    'Light Gradient Boosting': lgb['model'],\n",
    "    'XGBoost': xg['model'],\n",
    "    'Logistic Regression': lor['model']\n",
    "}\n",
    "f1_scores = []\n",
    "accuracy_scores = []\n",
    "recall_scores = []\n",
    "precision_scores = []\n",
    "\n",
    "for name, model in models.items():\n",
    "    y_pred = model.predict(xtest)\n",
    "    report = classification_report(ytest, y_pred, output_dict=True)\n",
    "    f1_scores.append(report['weighted avg']['f1-score'])\n",
    "    accuracy_scores.append(report['accuracy'])\n",
    "    recall_scores.append(report['weighted avg']['recall'])\n",
    "    precision_scores.append(report['weighted avg']['precision'])\n",
    "    print(f'{name} Classification Report:')\n",
    "    print(report)\n",
    "\n",
    "# Plot bar chart\n",
    "fig, ax = plt.subplots(2, 2, figsize=(12, 8))\n",
    "ax[0, 0].bar(models.keys(), f1_scores)\n",
    "ax[0, 0].set_ylim(0.6, 1.0)\n",
    "ax[0, 0].set_xlabel('Model')\n",
    "ax[0, 0].set_ylabel('F1-score')\n",
    "ax[0, 0].set_title('Comparison of F1-scores across models')\n",
    "\n",
    "ax[0, 1].bar(models.keys(), accuracy_scores)\n",
    "ax[0, 1].set_ylim(0.6, 1.0)\n",
    "ax[0, 1].set_xlabel('Model')\n",
    "ax[0, 1].set_ylabel('Accuracy')\n",
    "ax[0, 1].set_title('Comparison of Accuracy scores across models')\n",
    "\n",
    "ax[1, 0].bar(models.keys(), recall_scores)\n",
    "ax[1, 0].set_ylim(0.6, 1.0)\n",
    "ax[1, 0].set_xlabel('Model')\n",
    "ax[1, 0].set_ylabel('Recall')\n",
    "ax[1, 0].set_title('Comparison of Recall scores across models')\n",
    "\n",
    "ax[1, 1].bar(models.keys(), precision_scores)\n",
    "ax[1, 1].set_ylim(0.6, 1.0)\n",
    "ax[1, 1].set_xlabel('Model')\n",
    "ax[1, 1].set_ylabel('Precision')\n",
    "ax[1, 1].set_title('Comparison of Precision scores across models')\n",
    "\n",
    "plt.tight_layout()\n",
    "plt.show()\n"
   ]
  },
  {
   "cell_type": "code",
   "execution_count": null,
   "id": "ef2e2d40",
   "metadata": {},
   "outputs": [],
   "source": []
  }
 ],
 "metadata": {
  "colab": {
   "provenance": []
  },
  "kernelspec": {
   "display_name": "Python 3 (ipykernel)",
   "language": "python",
   "name": "python3"
  },
  "language_info": {
   "codemirror_mode": {
    "name": "ipython",
    "version": 3
   },
   "file_extension": ".py",
   "mimetype": "text/x-python",
   "name": "python",
   "nbconvert_exporter": "python",
   "pygments_lexer": "ipython3",
   "version": "3.10.9"
  }
 },
 "nbformat": 4,
 "nbformat_minor": 5
}
